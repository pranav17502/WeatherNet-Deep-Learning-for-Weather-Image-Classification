{
  "nbformat": 4,
  "nbformat_minor": 0,
  "metadata": {
    "colab": {
      "name": "weather_conditions_classification.ipynb",
      "provenance": [],
      "collapsed_sections": []
    },
    "kernelspec": {
      "name": "python3",
      "display_name": "Python 3"
    },
    "language_info": {
      "name": "python"
    },
    "accelerator": "GPU",
    "gpuClass": "standard"
  },
  "cells": [
    {
      "cell_type": "code",
      "source": [
        "%tensorflow_version 2.x\n",
        "import tensorflow as tf\n",
        "device_name = tf.test.gpu_device_name()\n",
        "if device_name != '/device:GPU:0':\n",
        "  raise SystemError('GPU device not found')\n",
        "print('Found GPU at: {}'.format(device_name))\n",
        "%time"
      ],
      "metadata": {
        "id": "XCkCiugGQ5DX",
        "colab": {
          "base_uri": "https://localhost:8080/"
        },
        "outputId": "54258b60-04b1-4b32-c560-8387d740cd2e"
      },
      "execution_count": null,
      "outputs": [
        {
          "output_type": "stream",
          "name": "stdout",
          "text": [
            "Found GPU at: /device:GPU:0\n",
            "CPU times: user 2 µs, sys: 1e+03 ns, total: 3 µs\n",
            "Wall time: 7.15 µs\n"
          ]
        }
      ]
    },
    {
      "cell_type": "code",
      "execution_count": null,
      "metadata": {
        "id": "extvlTa-8Von"
      },
      "outputs": [],
      "source": [
        "import cv2 as cv\n",
        "import numpy as np\n",
        "import pandas as pd\n",
        "import matplotlib.pyplot as plt\n",
        "import pickle\n",
        "import glob\n",
        "import random\n",
        "import seaborn as sns\n",
        "from sklearn.model_selection import train_test_split\n",
        "from sklearn.preprocessing import LabelEncoder\n",
        "from scipy.ndimage import interpolation as inter\n",
        "from google.colab.patches import cv2_imshow\n",
        "from tensorflow import keras \n",
        "from tensorflow.keras.models import Model\n",
        "from keras.layers import GlobalMaxPooling2D, GlobalAveragePooling2D, Dropout, Dense, Input, Conv2D, MaxPooling2D, Flatten,MaxPooling3D\n",
        "from tensorflow.keras.applications.vgg16 import VGG16"
      ]
    },
    {
      "cell_type": "code",
      "source": [
        "from google.colab import drive\n",
        "drive.mount('./drive')"
      ],
      "metadata": {
        "colab": {
          "base_uri": "https://localhost:8080/"
        },
        "id": "pnonLZj2CGf8",
        "outputId": "11b837cf-aac9-4062-a4dd-242f09f84aed"
      },
      "execution_count": null,
      "outputs": [
        {
          "output_type": "stream",
          "name": "stdout",
          "text": [
            "Mounted at ./drive\n"
          ]
        }
      ]
    },
    {
      "cell_type": "code",
      "source": [
        "labels = pd.read_csv(\"/content/drive/MyDrive/DeepLearningBootcamp/Training_set.csv\")   # loading the labels\n",
        "file_paths = [[fname, '/content/drive/MyDrive/DeepLearningBootcamp/train/' + fname] for fname in labels['filename']]\n",
        "images = pd.DataFrame(file_paths, columns=['filename', 'filepaths'])\n",
        "train_data = pd.merge(images, labels, how = 'inner', on = 'filename')"
      ],
      "metadata": {
        "id": "HGJlDxCRCyKE"
      },
      "execution_count": null,
      "outputs": []
    },
    {
      "cell_type": "code",
      "source": [
        "label_encoder = LabelEncoder()\n",
        "train_data['label'] = label_encoder.fit_transform(train_data['label'])"
      ],
      "metadata": {
        "id": "GY05jb6oEyXc"
      },
      "execution_count": null,
      "outputs": []
    },
    {
      "cell_type": "code",
      "source": [
        "X, y = [],[]\n",
        "image_size = 224\n",
        "\n",
        "for i in range(len(train_data)):\n",
        "  img = cv.imread(train_data['filepaths'][i])\n",
        "  resized_img = cv.resize(img, (image_size, image_size))\n",
        "  X.append(resized_img)\n",
        "  y.append(train_data['label'][i])"
      ],
      "metadata": {
        "id": "bsNQmtwVEoWd"
      },
      "execution_count": null,
      "outputs": []
    },
    {
      "cell_type": "code",
      "source": [
        "y = np.eye(5)[np.array(y).reshape(-1)].tolist()"
      ],
      "metadata": {
        "id": "zIVNYURQjZXA"
      },
      "execution_count": null,
      "outputs": []
    },
    {
      "cell_type": "code",
      "source": [
        "X = np.array(X)\n",
        "y = np.array(y)"
      ],
      "metadata": {
        "id": "QHr4On3BHeE8"
      },
      "execution_count": null,
      "outputs": []
    },
    {
      "cell_type": "code",
      "source": [
        "X = X.reshape(-1, image_size, image_size, 3)\n",
        "X.shape"
      ],
      "metadata": {
        "colab": {
          "base_uri": "https://localhost:8080/"
        },
        "id": "MLrJZ209gqHP",
        "outputId": "6dd37166-5796-4dff-8510-46b9eafb300a"
      },
      "execution_count": null,
      "outputs": [
        {
          "output_type": "execute_result",
          "data": {
            "text/plain": [
              "(1048, 224, 224, 3)"
            ]
          },
          "metadata": {},
          "execution_count": 131
        }
      ]
    },
    {
      "cell_type": "code",
      "source": [
        "X_train, X_val, y_train, y_val = train_test_split(X,y,test_size=0.2, random_state = 2)"
      ],
      "metadata": {
        "id": "hinEcpvOL722"
      },
      "execution_count": null,
      "outputs": []
    },
    {
      "cell_type": "code",
      "source": [
        "#X_train = X_train.reshape(-1, 56, 56, 3)\n",
        "X_train = X_train.astype('float32')/255\n",
        "X_val = X_val.astype('float32')/255"
      ],
      "metadata": {
        "id": "FyMjdtwAaW73"
      },
      "execution_count": null,
      "outputs": []
    },
    {
      "cell_type": "code",
      "source": [
        "X_train.shape , y_train.shape , X_val.shape"
      ],
      "metadata": {
        "colab": {
          "base_uri": "https://localhost:8080/"
        },
        "id": "CQfHF4pJa0Am",
        "outputId": "7adf68c3-7127-4a18-de7b-659169d5ccc1"
      },
      "execution_count": null,
      "outputs": [
        {
          "output_type": "execute_result",
          "data": {
            "text/plain": [
              "((838, 224, 224, 3), (838, 5), (210, 224, 224, 3))"
            ]
          },
          "metadata": {},
          "execution_count": 134
        }
      ]
    },
    {
      "cell_type": "code",
      "source": [
        "vgg16_model = VGG16(pooling='avg', weights='imagenet', include_top=False, input_shape=(image_size,image_size,3))\n",
        "\n",
        "for layers in vgg16_model.layers:\n",
        "  layers.trainable = True\n",
        "\n",
        "last_output = vgg16_model.layers[-1].output\n",
        "vgg_x = Flatten()(last_output)\n",
        "vgg_x = Dense(128, activation = 'relu')(vgg_x)\n",
        "vgg_x = Dense(32, activation = 'relu')(vgg_x)\n",
        "vgg_x = Dense(5, activation = 'softmax')(vgg_x)\n",
        "\n",
        "vgg16_final_model = Model(vgg16_model.input, vgg_x)\n",
        "vgg16_final_model.compile(loss = 'categorical_crossentropy', optimizer= 'adam',metrics=[\"accuracy\",keras.metrics.Precision(),keras.metrics.Recall()])"
      ],
      "metadata": {
        "id": "JSfo7mzGi_mB"
      },
      "execution_count": null,
      "outputs": []
    },
    {
      "cell_type": "code",
      "source": [
        "batch_size = 15\n",
        "epochs = 50\n",
        "\n",
        "vgg_early_stopping = tf.keras.callbacks.EarlyStopping(monitor='loss', patience=5)\n",
        "\n",
        "\n",
        "vgg16_history = vgg16_final_model.fit(X_train,\n",
        "                                      y_train, \n",
        "                                      batch_size=batch_size,\n",
        "                                      epochs=epochs,\n",
        "                                      validation_split=0.2,\n",
        "                                      callbacks=[vgg_early_stopping],\n",
        "                                      verbose=1)"
      ],
      "metadata": {
        "colab": {
          "base_uri": "https://localhost:8080/"
        },
        "id": "AIku24uqk5cX",
        "outputId": "39199591-81e8-41ce-9ec9-f29d9dc46d08"
      },
      "execution_count": null,
      "outputs": [
        {
          "output_type": "stream",
          "name": "stdout",
          "text": [
            "Epoch 1/50\n",
            "45/45 [==============================] - 12s 240ms/step - loss: 1.7380 - accuracy: 0.2164 - precision_20: 0.2045 - recall_20: 0.0134 - val_loss: 1.6094 - val_accuracy: 0.2798 - val_precision_20: 0.0000e+00 - val_recall_20: 0.0000e+00\n",
            "Epoch 2/50\n",
            "45/45 [==============================] - 10s 232ms/step - loss: 1.4650 - accuracy: 0.3507 - precision_20: 0.7708 - recall_20: 0.1104 - val_loss: 1.1878 - val_accuracy: 0.4583 - val_precision_20: 0.9070 - val_recall_20: 0.2321\n",
            "Epoch 3/50\n",
            "45/45 [==============================] - 11s 234ms/step - loss: 1.3041 - accuracy: 0.4134 - precision_20: 0.8707 - recall_20: 0.1910 - val_loss: 1.2149 - val_accuracy: 0.4048 - val_precision_20: 0.9091 - val_recall_20: 0.2381\n",
            "Epoch 4/50\n",
            "45/45 [==============================] - 11s 236ms/step - loss: 1.3184 - accuracy: 0.4373 - precision_20: 0.8500 - recall_20: 0.2030 - val_loss: 1.1582 - val_accuracy: 0.5000 - val_precision_20: 0.9231 - val_recall_20: 0.2143\n",
            "Epoch 5/50\n",
            "45/45 [==============================] - 10s 234ms/step - loss: 1.0651 - accuracy: 0.5478 - precision_20: 0.7992 - recall_20: 0.2970 - val_loss: 0.9393 - val_accuracy: 0.5476 - val_precision_20: 0.8462 - val_recall_20: 0.3274\n",
            "Epoch 6/50\n",
            "45/45 [==============================] - 10s 231ms/step - loss: 1.0071 - accuracy: 0.5433 - precision_20: 0.8065 - recall_20: 0.3358 - val_loss: 0.9817 - val_accuracy: 0.5298 - val_precision_20: 0.6518 - val_recall_20: 0.4345\n",
            "Epoch 7/50\n",
            "45/45 [==============================] - 10s 230ms/step - loss: 0.9259 - accuracy: 0.6030 - precision_20: 0.8123 - recall_20: 0.3940 - val_loss: 1.0057 - val_accuracy: 0.5774 - val_precision_20: 0.7826 - val_recall_20: 0.3214\n",
            "Epoch 8/50\n",
            "45/45 [==============================] - 10s 230ms/step - loss: 0.9160 - accuracy: 0.5806 - precision_20: 0.8418 - recall_20: 0.3731 - val_loss: 1.4479 - val_accuracy: 0.4881 - val_precision_20: 0.7895 - val_recall_20: 0.0893\n",
            "Epoch 9/50\n",
            "45/45 [==============================] - 10s 230ms/step - loss: 1.0650 - accuracy: 0.5224 - precision_20: 0.7626 - recall_20: 0.3164 - val_loss: 1.1024 - val_accuracy: 0.4762 - val_precision_20: 0.9091 - val_recall_20: 0.2381\n",
            "Epoch 10/50\n",
            "45/45 [==============================] - 10s 232ms/step - loss: 1.1338 - accuracy: 0.5075 - precision_20: 0.8150 - recall_20: 0.2433 - val_loss: 1.0928 - val_accuracy: 0.5714 - val_precision_20: 0.9677 - val_recall_20: 0.1786\n",
            "Epoch 11/50\n",
            "45/45 [==============================] - 10s 232ms/step - loss: 1.0442 - accuracy: 0.5597 - precision_20: 0.8007 - recall_20: 0.3537 - val_loss: 1.0567 - val_accuracy: 0.4821 - val_precision_20: 0.7529 - val_recall_20: 0.3810\n",
            "Epoch 12/50\n",
            "45/45 [==============================] - 10s 232ms/step - loss: 0.9166 - accuracy: 0.6075 - precision_20: 0.7572 - recall_20: 0.4701 - val_loss: 1.0564 - val_accuracy: 0.6131 - val_precision_20: 0.6864 - val_recall_20: 0.4821\n",
            "Epoch 13/50\n",
            "45/45 [==============================] - 10s 231ms/step - loss: 0.8743 - accuracy: 0.6612 - precision_20: 0.7557 - recall_20: 0.4478 - val_loss: 1.1145 - val_accuracy: 0.6012 - val_precision_20: 0.6159 - val_recall_20: 0.5536\n",
            "Epoch 14/50\n",
            "45/45 [==============================] - 10s 231ms/step - loss: 0.7750 - accuracy: 0.6851 - precision_20: 0.7856 - recall_20: 0.5522 - val_loss: 1.1387 - val_accuracy: 0.5714 - val_precision_20: 0.6744 - val_recall_20: 0.5179\n",
            "Epoch 15/50\n",
            "45/45 [==============================] - 10s 231ms/step - loss: 0.9278 - accuracy: 0.5791 - precision_20: 0.8158 - recall_20: 0.3701 - val_loss: 0.9314 - val_accuracy: 0.5714 - val_precision_20: 0.7778 - val_recall_20: 0.3750\n",
            "Epoch 16/50\n",
            "45/45 [==============================] - 10s 230ms/step - loss: 0.7835 - accuracy: 0.6657 - precision_20: 0.8056 - recall_20: 0.5194 - val_loss: 0.9932 - val_accuracy: 0.5595 - val_precision_20: 0.6103 - val_recall_20: 0.4940\n",
            "Epoch 17/50\n",
            "45/45 [==============================] - 10s 230ms/step - loss: 0.7108 - accuracy: 0.7000 - precision_20: 0.7636 - recall_20: 0.6269 - val_loss: 0.8449 - val_accuracy: 0.6488 - val_precision_20: 0.7055 - val_recall_20: 0.6131\n",
            "Epoch 18/50\n",
            "45/45 [==============================] - 10s 230ms/step - loss: 0.7612 - accuracy: 0.6881 - precision_20: 0.7462 - recall_20: 0.5925 - val_loss: 0.7254 - val_accuracy: 0.6429 - val_precision_20: 0.7672 - val_recall_20: 0.5298\n",
            "Epoch 19/50\n",
            "45/45 [==============================] - 10s 230ms/step - loss: 0.6460 - accuracy: 0.7373 - precision_20: 0.7804 - recall_20: 0.6791 - val_loss: 0.6511 - val_accuracy: 0.7381 - val_precision_20: 0.8014 - val_recall_20: 0.6964\n",
            "Epoch 20/50\n",
            "45/45 [==============================] - 10s 231ms/step - loss: 0.6509 - accuracy: 0.7373 - precision_20: 0.7726 - recall_20: 0.6896 - val_loss: 0.6776 - val_accuracy: 0.7143 - val_precision_20: 0.7483 - val_recall_20: 0.6369\n",
            "Epoch 21/50\n",
            "45/45 [==============================] - 10s 230ms/step - loss: 0.7105 - accuracy: 0.7090 - precision_20: 0.7818 - recall_20: 0.6149 - val_loss: 0.7021 - val_accuracy: 0.6369 - val_precision_20: 0.7014 - val_recall_20: 0.6012\n",
            "Epoch 22/50\n",
            "45/45 [==============================] - 10s 230ms/step - loss: 0.6593 - accuracy: 0.7104 - precision_20: 0.7586 - recall_20: 0.6239 - val_loss: 0.8120 - val_accuracy: 0.6429 - val_precision_20: 0.7075 - val_recall_20: 0.6190\n",
            "Epoch 23/50\n",
            "45/45 [==============================] - 10s 230ms/step - loss: 0.6210 - accuracy: 0.7358 - precision_20: 0.7791 - recall_20: 0.6791 - val_loss: 0.7222 - val_accuracy: 0.7321 - val_precision_20: 0.7569 - val_recall_20: 0.6488\n",
            "Epoch 24/50\n",
            "45/45 [==============================] - 10s 231ms/step - loss: 0.6153 - accuracy: 0.7493 - precision_20: 0.8057 - recall_20: 0.7119 - val_loss: 0.6875 - val_accuracy: 0.6905 - val_precision_20: 0.7810 - val_recall_20: 0.6369\n",
            "Epoch 25/50\n",
            "45/45 [==============================] - 10s 230ms/step - loss: 0.5485 - accuracy: 0.7716 - precision_20: 0.7980 - recall_20: 0.7075 - val_loss: 0.6623 - val_accuracy: 0.7024 - val_precision_20: 0.7419 - val_recall_20: 0.6845\n",
            "Epoch 26/50\n",
            "45/45 [==============================] - 10s 231ms/step - loss: 0.5641 - accuracy: 0.7597 - precision_20: 0.7921 - recall_20: 0.7224 - val_loss: 0.6308 - val_accuracy: 0.6667 - val_precision_20: 0.6875 - val_recall_20: 0.6548\n",
            "Epoch 27/50\n",
            "45/45 [==============================] - 10s 230ms/step - loss: 0.5486 - accuracy: 0.7791 - precision_20: 0.8030 - recall_20: 0.7239 - val_loss: 0.6462 - val_accuracy: 0.7083 - val_precision_20: 0.7467 - val_recall_20: 0.6667\n",
            "Epoch 28/50\n",
            "45/45 [==============================] - 10s 230ms/step - loss: 0.5125 - accuracy: 0.7896 - precision_20: 0.8229 - recall_20: 0.7627 - val_loss: 0.5331 - val_accuracy: 0.7738 - val_precision_20: 0.8278 - val_recall_20: 0.7440\n",
            "Epoch 29/50\n",
            "45/45 [==============================] - 10s 230ms/step - loss: 0.6167 - accuracy: 0.7567 - precision_20: 0.8020 - recall_20: 0.7015 - val_loss: 0.5488 - val_accuracy: 0.7976 - val_precision_20: 0.8411 - val_recall_20: 0.7560\n",
            "Epoch 30/50\n",
            "45/45 [==============================] - 10s 230ms/step - loss: 0.5771 - accuracy: 0.7806 - precision_20: 0.7953 - recall_20: 0.7134 - val_loss: 0.7426 - val_accuracy: 0.7083 - val_precision_20: 0.7419 - val_recall_20: 0.6845\n",
            "Epoch 31/50\n",
            "45/45 [==============================] - 10s 230ms/step - loss: 0.5175 - accuracy: 0.7881 - precision_20: 0.8255 - recall_20: 0.7627 - val_loss: 0.6713 - val_accuracy: 0.7738 - val_precision_20: 0.8158 - val_recall_20: 0.7381\n",
            "Epoch 32/50\n",
            "45/45 [==============================] - 10s 230ms/step - loss: 0.4645 - accuracy: 0.8463 - precision_20: 0.8621 - recall_20: 0.8209 - val_loss: 0.8477 - val_accuracy: 0.7143 - val_precision_20: 0.7372 - val_recall_20: 0.6845\n",
            "Epoch 33/50\n",
            "45/45 [==============================] - 10s 230ms/step - loss: 0.5122 - accuracy: 0.7970 - precision_20: 0.8121 - recall_20: 0.7806 - val_loss: 0.9331 - val_accuracy: 0.6071 - val_precision_20: 0.6250 - val_recall_20: 0.5952\n",
            "Epoch 34/50\n",
            "45/45 [==============================] - 10s 230ms/step - loss: 0.5109 - accuracy: 0.8045 - precision_20: 0.8341 - recall_20: 0.7806 - val_loss: 0.6225 - val_accuracy: 0.7440 - val_precision_20: 0.7677 - val_recall_20: 0.7083\n",
            "Epoch 35/50\n",
            "45/45 [==============================] - 10s 230ms/step - loss: 0.4851 - accuracy: 0.8164 - precision_20: 0.8344 - recall_20: 0.7970 - val_loss: 0.5835 - val_accuracy: 0.7500 - val_precision_20: 0.7640 - val_recall_20: 0.7321\n",
            "Epoch 36/50\n",
            "45/45 [==============================] - 10s 230ms/step - loss: 0.5596 - accuracy: 0.7940 - precision_20: 0.8160 - recall_20: 0.7612 - val_loss: 0.6957 - val_accuracy: 0.7381 - val_precision_20: 0.7582 - val_recall_20: 0.6905\n",
            "Epoch 37/50\n",
            "45/45 [==============================] - 10s 229ms/step - loss: 0.4563 - accuracy: 0.8149 - precision_20: 0.8412 - recall_20: 0.7985 - val_loss: 0.6905 - val_accuracy: 0.7738 - val_precision_20: 0.7834 - val_recall_20: 0.7321\n",
            "Epoch 38/50\n",
            "45/45 [==============================] - 10s 230ms/step - loss: 0.4116 - accuracy: 0.8463 - precision_20: 0.8605 - recall_20: 0.8284 - val_loss: 0.5267 - val_accuracy: 0.7917 - val_precision_20: 0.8182 - val_recall_20: 0.7500\n",
            "Epoch 39/50\n",
            "45/45 [==============================] - 10s 230ms/step - loss: 0.4403 - accuracy: 0.8239 - precision_20: 0.8454 - recall_20: 0.8000 - val_loss: 0.5109 - val_accuracy: 0.8036 - val_precision_20: 0.8302 - val_recall_20: 0.7857\n",
            "Epoch 40/50\n",
            "45/45 [==============================] - 11s 239ms/step - loss: 0.4321 - accuracy: 0.8403 - precision_20: 0.8600 - recall_20: 0.8254 - val_loss: 0.8023 - val_accuracy: 0.6964 - val_precision_20: 0.7124 - val_recall_20: 0.6488\n",
            "Epoch 41/50\n",
            "45/45 [==============================] - 10s 232ms/step - loss: 0.4399 - accuracy: 0.8403 - precision_20: 0.8634 - recall_20: 0.8299 - val_loss: 0.5701 - val_accuracy: 0.7857 - val_precision_20: 0.8075 - val_recall_20: 0.7738\n",
            "Epoch 42/50\n",
            "45/45 [==============================] - 10s 230ms/step - loss: 0.4274 - accuracy: 0.8343 - precision_20: 0.8443 - recall_20: 0.8254 - val_loss: 0.6057 - val_accuracy: 0.7619 - val_precision_20: 0.8039 - val_recall_20: 0.7321\n",
            "Epoch 43/50\n",
            "45/45 [==============================] - 10s 230ms/step - loss: 0.4171 - accuracy: 0.8463 - precision_20: 0.8563 - recall_20: 0.8269 - val_loss: 0.6458 - val_accuracy: 0.7738 - val_precision_20: 0.7840 - val_recall_20: 0.7560\n"
          ]
        }
      ]
    },
    {
      "cell_type": "code",
      "source": [
        "import matplotlib.pyplot as plt\n",
        "plt.plot(vgg16_history.history['accuracy'])\n",
        "plt.plot(vgg16_history.history['accuracy'])\n",
        "plt.title(\"model accuracy\")\n",
        "plt.ylabel(\"accuracy\")\n",
        "plt.xlabel(\"epoch\")\n",
        "plt.legend(['train','test'],loc='lower right')\n",
        "plt.show()"
      ],
      "metadata": {
        "colab": {
          "base_uri": "https://localhost:8080/",
          "height": 295
        },
        "id": "HrVgK_6zjvuV",
        "outputId": "daeb8f1f-f4e3-4175-b3ff-c5d97ebe87c4"
      },
      "execution_count": null,
      "outputs": [
        {
          "output_type": "display_data",
          "data": {
            "text/plain": [
              "<Figure size 432x288 with 1 Axes>"
            ],
            "image/png": "[encoded data removed]"
          },
          "metadata": {
            "needs_background": "light"
          }
        }
      ]
    },
    {
      "cell_type": "code",
      "source": [
        "import matplotlib.pyplot as plt\n",
        "plt.plot(vgg16_history.history['loss'])\n",
        "plt.plot(vgg16_history.history['val_loss'])\n",
        "plt.title(\"model loss\")\n",
        "plt.ylabel(\"loss\")\n",
        "plt.xlabel(\"epoch\")\n",
        "plt.legend(['train','test'],loc='upper right')\n",
        "plt.show()"
      ],
      "metadata": {
        "colab": {
          "base_uri": "https://localhost:8080/",
          "height": 295
        },
        "id": "FYKHoBwEjytO",
        "outputId": "05fe4e4a-6e23-4977-d0b0-aff5c413c16f"
      },
      "execution_count": null,
      "outputs": [
        {
          "output_type": "display_data",
          "data": {
            "text/plain": [
              "<Figure size 432x288 with 1 Axes>"
            ],
            "image/png": "[encoded data removed]"
          },
          "metadata": {
            "needs_background": "light"
          }
        }
      ]
    },
    {
      "cell_type": "code",
      "source": [
        "loss, accuracy, precision, recall = vgg16_final_model.evaluate(X_val, y_val, verbose=0)\n",
        "print('Loss', loss)\n",
        "print('Accuracy', accuracy)\n",
        "print('Precision', precision)\n",
        "print('Recall', recall)\n",
        "\n",
        "f1_score = (2* recall*precision)/(recall+precision)\n",
        "print(\"f1_score\", f1_score)"
      ],
      "metadata": {
        "colab": {
          "base_uri": "https://localhost:8080/"
        },
        "id": "Fh69orahj2D8",
        "outputId": "a4038a37-b150-4186-9a0f-2ff3a9214cf6"
      },
      "execution_count": null,
      "outputs": [
        {
          "output_type": "stream",
          "name": "stdout",
          "text": [
            "Loss 0.4627944231033325\n",
            "Accuracy 0.8238095045089722\n",
            "Precision 0.8349514603614807\n",
            "Recall 0.8190476298332214\n",
            "f1_score 0.8269230844067222\n"
          ]
        }
      ]
    },
    {
      "cell_type": "code",
      "source": [
        "predict = vgg16_final_model.predict(X_val)\n",
        "\n",
        "result = []\n",
        "correct = []\n",
        "for i in predict:\n",
        "  result.append(np.argmax(i))\n",
        "\n",
        "for i in y_val:\n",
        "  correct.append(np.argmax(i))\n",
        "\n",
        "from sklearn.metrics import confusion_matrix\n",
        "\n",
        "#Generate the confusion matrix\n",
        "cf_matrix = confusion_matrix(correct,result)\n",
        "\n",
        "plt.figure(figsize = (10,7))\n",
        "sns.heatmap(cf_matrix, annot=True, fmt='d')\n",
        "plt.xlabel('Predicted')\n",
        "plt.ylabel('Truth')"
      ],
      "metadata": {
        "colab": {
          "base_uri": "https://localhost:8080/",
          "height": 459
        },
        "id": "HUi8EoE4xVys",
        "outputId": "2295fa58-5e8a-4c3e-b989-ab432f1eca1a"
      },
      "execution_count": null,
      "outputs": [
        {
          "output_type": "execute_result",
          "data": {
            "text/plain": [
              "Text(69.0, 0.5, 'Truth')"
            ]
          },
          "metadata": {},
          "execution_count": 218
        },
        {
          "output_type": "display_data",
          "data": {
            "text/plain": [
              "<Figure size 720x504 with 2 Axes>"
            ],
            "image/png": "[encoded data removed]"
          },
          "metadata": {
            "needs_background": "light"
          }
        }
      ]
    },
    {
      "cell_type": "code",
      "source": [
        "vgg16_final_model.save('weather_81_75.h5')"
      ],
      "metadata": {
        "id": "KsIgx2EIyziz"
      },
      "execution_count": null,
      "outputs": []
    },
    {
      "cell_type": "code",
      "source": [
        "test_dataset = pd.read_csv(\"/content/drive/MyDrive/DeepLearningBootcamp/Testing_set.csv\")\n",
        "file_paths_test = [[fname, '/content/drive/MyDrive/DeepLearningBootcamp/test/' + fname] for fname in test_dataset['filename']]\n",
        "test_images = pd.DataFrame(file_paths_test, columns=['filename', 'filepaths'])\n",
        "test_data = [] \n",
        "for i in range(len(test_images)):\n",
        "  img_test_array = cv.imread(test_images['filepaths'][i]) \n",
        "  new_img_test_array = cv.resize(img_test_array, (image_size, image_size)) \n",
        "  test_data.append(new_img_test_array)"
      ],
      "metadata": {
        "id": "MJ1D5V95re1T"
      },
      "execution_count": null,
      "outputs": []
    },
    {
      "cell_type": "code",
      "source": [
        "test_data = np.array(test_data)\n",
        "test_data = test_data.reshape(-1, image_size, image_size, 3)\n",
        "test_data = test_data.astype('float32')/255"
      ],
      "metadata": {
        "id": "aCkY19Xso4Vl"
      },
      "execution_count": null,
      "outputs": []
    },
    {
      "cell_type": "code",
      "source": [
        "values = vgg16_final_model.predict(test_data)\n",
        "\n",
        "classes = []\n",
        "for i in values:\n",
        "  classes.append(np.argmax(i))"
      ],
      "metadata": {
        "id": "uAOVwFTLYc5V"
      },
      "execution_count": null,
      "outputs": []
    },
    {
      "cell_type": "code",
      "source": [
        "predictions = label_encoder.inverse_transform(classes)"
      ],
      "metadata": {
        "id": "cCt0tLK7pDwP"
      },
      "execution_count": null,
      "outputs": []
    },
    {
      "cell_type": "code",
      "source": [
        "predictions[:50]"
      ],
      "metadata": {
        "colab": {
          "base_uri": "https://localhost:8080/"
        },
        "id": "mAVaswB8o9Y8",
        "outputId": "22324bcb-68c5-4f0f-b6d7-604eb7574605"
      },
      "execution_count": null,
      "outputs": [
        {
          "output_type": "execute_result",
          "data": {
            "text/plain": [
              "array(['rainy', 'rainy', 'foggy', 'rainy', 'sunrise', 'shine', 'rainy',\n",
              "       'cloudy', 'shine', 'foggy', 'shine', 'shine', 'sunrise', 'sunrise',\n",
              "       'sunrise', 'sunrise', 'sunrise', 'cloudy', 'foggy', 'shine',\n",
              "       'shine', 'foggy', 'shine', 'foggy', 'sunrise', 'shine', 'sunrise',\n",
              "       'rainy', 'foggy', 'cloudy', 'sunrise', 'shine', 'rainy', 'shine',\n",
              "       'shine', 'cloudy', 'sunrise', 'sunrise', 'cloudy', 'shine',\n",
              "       'shine', 'shine', 'foggy', 'cloudy', 'foggy', 'rainy', 'rainy',\n",
              "       'shine', 'foggy', 'shine'], dtype=object)"
            ]
          },
          "metadata": {},
          "execution_count": 154
        }
      ]
    },
    {
      "cell_type": "code",
      "source": [
        "res = pd.DataFrame({'filename': test_images['filename'], 'label': predictions})\n",
        "res.to_csv(\"submission.csv\", index = False)"
      ],
      "metadata": {
        "id": "P4XMt4n3peQ8"
      },
      "execution_count": null,
      "outputs": []
    },
    {
      "cell_type": "code",
      "source": [
        "from google.colab import files\n",
        "files.download('submission.csv')"
      ],
      "metadata": {
        "colab": {
          "base_uri": "https://localhost:8080/",
          "height": 17
        },
        "id": "mF18M053dFFw",
        "outputId": "f70da69b-ff15-4309-eb00-b829a2564726"
      },
      "execution_count": null,
      "outputs": [
        {
          "output_type": "display_data",
          "data": {
            "text/plain": [
              "<IPython.core.display.Javascript object>"
            ],
            "application/javascript": [
              "\n",
              "    async function download(id, filename, size) {\n",
              "      if (!google.colab.kernel.accessAllowed) {\n",
              "        return;\n",
              "      }\n",
              "      const div = document.createElement('div');\n",
              "      const label = document.createElement('label');\n",
              "      label.textContent = `Downloading \"${filename}\": `;\n",
              "      div.appendChild(label);\n",
              "      const progress = document.createElement('progress');\n",
              "      progress.max = size;\n",
              "      div.appendChild(progress);\n",
              "      document.body.appendChild(div);\n",
              "\n",
              "      const buffers = [];\n",
              "      let downloaded = 0;\n",
              "\n",
              "      const channel = await google.colab.kernel.comms.open(id);\n",
              "      // Send a message to notify the kernel that we're ready.\n",
              "      channel.send({})\n",
              "\n",
              "      for await (const message of channel.messages) {\n",
              "        // Send a message to notify the kernel that we're ready.\n",
              "        channel.send({})\n",
              "        if (message.buffers) {\n",
              "          for (const buffer of message.buffers) {\n",
              "            buffers.push(buffer);\n",
              "            downloaded += buffer.byteLength;\n",
              "            progress.value = downloaded;\n",
              "          }\n",
              "        }\n",
              "      }\n",
              "      const blob = new Blob(buffers, {type: 'application/binary'});\n",
              "      const a = document.createElement('a');\n",
              "      a.href = window.URL.createObjectURL(blob);\n",
              "      a.download = filename;\n",
              "      div.appendChild(a);\n",
              "      a.click();\n",
              "      div.remove();\n",
              "    }\n",
              "  "
            ]
          },
          "metadata": {}
        },
        {
          "output_type": "display_data",
          "data": {
            "text/plain": [
              "<IPython.core.display.Javascript object>"
            ],
            "application/javascript": [
              "download(\"download_83d113f2-6ea7-49fa-924a-9412c5611d6e\", \"submission.csv\", 9195)"
            ]
          },
          "metadata": {}
        }
      ]
    }
  ]
}